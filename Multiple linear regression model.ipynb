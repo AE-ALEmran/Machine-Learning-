{
 "cells": [
  {
   "cell_type": "code",
   "execution_count": 4,
   "id": "d700c077-e784-4a0d-a7b6-d969c6c627d0",
   "metadata": {},
   "outputs": [],
   "source": [
    "#importing Library"
   ]
  },
  {
   "cell_type": "code",
   "execution_count": 4,
   "id": "3f7dba26-b703-4d2b-bec8-38fbf23c14e8",
   "metadata": {},
   "outputs": [],
   "source": [
    "import numpy as np\n",
    "import matplotlib.pyplot as plt\n",
    "import pandas as pd"
   ]
  },
  {
   "cell_type": "code",
   "execution_count": 5,
   "id": "508e6924-add3-40e4-b7aa-2beab2f53633",
   "metadata": {},
   "outputs": [],
   "source": [
    "#Importing dataset"
   ]
  },
  {
   "cell_type": "code",
   "execution_count": 6,
   "id": "e73e94ad-6698-4f9f-8d5f-aad3a213fa94",
   "metadata": {},
   "outputs": [],
   "source": [
    "dataset = pd.read_csv('50Startups.csv')\n",
    "x= dataset.iloc[:,:-1].values\n",
    "y= dataset.iloc[:, -1].values"
   ]
  },
  {
   "cell_type": "code",
   "execution_count": 10,
   "id": "1c3de73a-36a6-4d9d-ba36-66f89ec19e55",
   "metadata": {
    "scrolled": true
   },
   "outputs": [
    {
     "name": "stdout",
     "output_type": "stream",
     "text": [
      "[[165349.2 343987.0 442352.242 'New York']\n",
      " [736744.44 645435.0 23253.4 'California']\n",
      " [423423.44 345353.0 23425.0 'Florida']\n",
      " [325353.342 646454.0 242535.0 'New York']\n",
      " [423535.3423 4653535.0 464635345.0 'California']\n",
      " [342344.24 535353.0 53363.0 'Florida']\n",
      " [323523.234 353535.0 3535353.0 'New York']\n",
      " [234234.0 353533.0 34343.0 'California']\n",
      " [23424.0 353536.0 353535.0 'Florida']\n",
      " [234234234.0 64575.0 35353536.0 'New York']\n",
      " [234234.0 535353.0 543353.0 'California']\n",
      " [3535353.0 646352.0 353534.0 'Florida']\n",
      " [53535.0 3466633.0 3434535.0 'New York']\n",
      " [3535353.0 3535353.0 0.0 'California']\n",
      " [535353.0 525346.0 34535.0 'Florida']\n",
      " [23423.0 3453536.0 34534656.0 'New York']\n",
      " [353533.0 23423.0 34534534.0 'California']\n",
      " [534535.35 353533.0 6365474.0 'Florida']\n",
      " [345353.0 534535.35 46436334.0 'New York']\n",
      " [353535.0 345353.0 343463463.0 'California']\n",
      " [64564.0 353535.0 44363.0 'Florida']\n",
      " [575757.0 64564.0 3436363.0 'New York']\n",
      " [8686574.0 575757.0 3463435.0 'California']\n",
      " [64646.0 8686574.0 36363636.0 'Florida']\n",
      " [353535.0 64646.0 3363636.0 'New York']\n",
      " [336544.0 353535.0 36363534.0 'California']\n",
      " [353536.0 336544.0 3463.0 'Florida']\n",
      " [463522.0 353536.0 453535.0 'New York']\n",
      " [535363.0 463522.0 346363636.0 'California']\n",
      " [3535535.0 423423.44 3643636.0 'Florida']\n",
      " [335435.0 325353.342 36363654.0 'New York']\n",
      " [3543533.0 423535.3423 4634635.0 'California']\n",
      " [535353.0 342344.24 3636363.0 'Florida']\n",
      " [35353.0 323523.234 756745.0 'New York']\n",
      " [353353.0 234234.0 5476574754.0 'California']\n",
      " [3535353.0 23424.0 4574745.0 'Florida']\n",
      " [54353.0 234234234.0 454363.0 'New York']\n",
      " [345353.0 234234.0 3645656.0 'California']\n",
      " [353535.0 35353.0 636545.0 'Florida']\n",
      " [353535.0 353353.0 678686.0 'New York']\n",
      " [234234.0 3535353.0 686866.0 'California']\n",
      " [453453.0 54353.0 474747.0 'Florida']\n",
      " [435344.0 345353.0 447685.0 'New York']\n",
      " [5443534.0 353535.0 6858547.0 'California']\n",
      " [34543.0 353535.0 8574656.0 'Florida']\n",
      " [353453.0 234234.0 47476586.0 'New York']\n",
      " [45435435.0 453453.0 674474.0 'California']\n",
      " [45345.0 435344.0 4747474.0 'Florida']\n",
      " [44364.0 7347342.0 4774748.0 'New York']\n",
      " [45874.0 3453.0 35355.0 'Florida']\n",
      " [5463.0 435345.0 3535.0 'New York']]\n"
     ]
    }
   ],
   "source": [
    "print(x)"
   ]
  },
  {
   "cell_type": "code",
   "execution_count": 12,
   "id": "f4fd6172-02d0-4ae7-ac09-d6b5b75f0835",
   "metadata": {},
   "outputs": [],
   "source": [
    "#Encoding catogorical data"
   ]
  },
  {
   "cell_type": "code",
   "execution_count": 14,
   "id": "dfad3b37-6d1b-4828-b896-b4bba93d72c5",
   "metadata": {},
   "outputs": [],
   "source": [
    "from sklearn.compose import ColumnTransformer\n",
    "from sklearn.preprocessing import OneHotEncoder\n",
    "ct = ColumnTransformer(transformers=[('encoder',OneHotEncoder(),[3])], remainder='passthrough')\n",
    "x= np.array(ct.fit_transform(x))"
   ]
  },
  {
   "cell_type": "code",
   "execution_count": 15,
   "id": "03ea83e6-ff5a-4706-bc88-1aae1ff7281a",
   "metadata": {
    "scrolled": true
   },
   "outputs": [
    {
     "name": "stdout",
     "output_type": "stream",
     "text": [
      "[[0.0 0.0 1.0 165349.2 343987.0 442352.242]\n",
      " [1.0 0.0 0.0 736744.44 645435.0 23253.4]\n",
      " [0.0 1.0 0.0 423423.44 345353.0 23425.0]\n",
      " [0.0 0.0 1.0 325353.342 646454.0 242535.0]\n",
      " [1.0 0.0 0.0 423535.3423 4653535.0 464635345.0]\n",
      " [0.0 1.0 0.0 342344.24 535353.0 53363.0]\n",
      " [0.0 0.0 1.0 323523.234 353535.0 3535353.0]\n",
      " [1.0 0.0 0.0 234234.0 353533.0 34343.0]\n",
      " [0.0 1.0 0.0 23424.0 353536.0 353535.0]\n",
      " [0.0 0.0 1.0 234234234.0 64575.0 35353536.0]\n",
      " [1.0 0.0 0.0 234234.0 535353.0 543353.0]\n",
      " [0.0 1.0 0.0 3535353.0 646352.0 353534.0]\n",
      " [0.0 0.0 1.0 53535.0 3466633.0 3434535.0]\n",
      " [1.0 0.0 0.0 3535353.0 3535353.0 0.0]\n",
      " [0.0 1.0 0.0 535353.0 525346.0 34535.0]\n",
      " [0.0 0.0 1.0 23423.0 3453536.0 34534656.0]\n",
      " [1.0 0.0 0.0 353533.0 23423.0 34534534.0]\n",
      " [0.0 1.0 0.0 534535.35 353533.0 6365474.0]\n",
      " [0.0 0.0 1.0 345353.0 534535.35 46436334.0]\n",
      " [1.0 0.0 0.0 353535.0 345353.0 343463463.0]\n",
      " [0.0 1.0 0.0 64564.0 353535.0 44363.0]\n",
      " [0.0 0.0 1.0 575757.0 64564.0 3436363.0]\n",
      " [1.0 0.0 0.0 8686574.0 575757.0 3463435.0]\n",
      " [0.0 1.0 0.0 64646.0 8686574.0 36363636.0]\n",
      " [0.0 0.0 1.0 353535.0 64646.0 3363636.0]\n",
      " [1.0 0.0 0.0 336544.0 353535.0 36363534.0]\n",
      " [0.0 1.0 0.0 353536.0 336544.0 3463.0]\n",
      " [0.0 0.0 1.0 463522.0 353536.0 453535.0]\n",
      " [1.0 0.0 0.0 535363.0 463522.0 346363636.0]\n",
      " [0.0 1.0 0.0 3535535.0 423423.44 3643636.0]\n",
      " [0.0 0.0 1.0 335435.0 325353.342 36363654.0]\n",
      " [1.0 0.0 0.0 3543533.0 423535.3423 4634635.0]\n",
      " [0.0 1.0 0.0 535353.0 342344.24 3636363.0]\n",
      " [0.0 0.0 1.0 35353.0 323523.234 756745.0]\n",
      " [1.0 0.0 0.0 353353.0 234234.0 5476574754.0]\n",
      " [0.0 1.0 0.0 3535353.0 23424.0 4574745.0]\n",
      " [0.0 0.0 1.0 54353.0 234234234.0 454363.0]\n",
      " [1.0 0.0 0.0 345353.0 234234.0 3645656.0]\n",
      " [0.0 1.0 0.0 353535.0 35353.0 636545.0]\n",
      " [0.0 0.0 1.0 353535.0 353353.0 678686.0]\n",
      " [1.0 0.0 0.0 234234.0 3535353.0 686866.0]\n",
      " [0.0 1.0 0.0 453453.0 54353.0 474747.0]\n",
      " [0.0 0.0 1.0 435344.0 345353.0 447685.0]\n",
      " [1.0 0.0 0.0 5443534.0 353535.0 6858547.0]\n",
      " [0.0 1.0 0.0 34543.0 353535.0 8574656.0]\n",
      " [0.0 0.0 1.0 353453.0 234234.0 47476586.0]\n",
      " [1.0 0.0 0.0 45435435.0 453453.0 674474.0]\n",
      " [0.0 1.0 0.0 45345.0 435344.0 4747474.0]\n",
      " [0.0 0.0 1.0 44364.0 7347342.0 4774748.0]\n",
      " [0.0 1.0 0.0 45874.0 3453.0 35355.0]\n",
      " [0.0 0.0 1.0 5463.0 435345.0 3535.0]]\n"
     ]
    }
   ],
   "source": [
    "print(x)"
   ]
  },
  {
   "cell_type": "code",
   "execution_count": 18,
   "id": "a5a9821e-1d96-4e61-8fbe-e24141cd339e",
   "metadata": {},
   "outputs": [],
   "source": [
    "#Spliting the data set into training set and test set"
   ]
  },
  {
   "cell_type": "code",
   "execution_count": 20,
   "id": "ec278dbe-4952-490e-9131-4c39f1343873",
   "metadata": {},
   "outputs": [],
   "source": [
    "from sklearn.model_selection import train_test_split\n",
    "x_train, x_test, y_train, y_test = train_test_split(x,y,test_size=0.2 , random_state=0)"
   ]
  },
  {
   "cell_type": "code",
   "execution_count": 22,
   "id": "d32dbb92-dc29-4c48-ab5a-fbcff61b301b",
   "metadata": {},
   "outputs": [],
   "source": [
    "#Training set"
   ]
  },
  {
   "cell_type": "code",
   "execution_count": 24,
   "id": "7b33f89b-d994-4e90-9db7-a5652d464d1d",
   "metadata": {},
   "outputs": [
    {
     "data": {
      "text/html": [
       "<style>#sk-container-id-1 {color: black;background-color: white;}#sk-container-id-1 pre{padding: 0;}#sk-container-id-1 div.sk-toggleable {background-color: white;}#sk-container-id-1 label.sk-toggleable__label {cursor: pointer;display: block;width: 100%;margin-bottom: 0;padding: 0.3em;box-sizing: border-box;text-align: center;}#sk-container-id-1 label.sk-toggleable__label-arrow:before {content: \"▸\";float: left;margin-right: 0.25em;color: #696969;}#sk-container-id-1 label.sk-toggleable__label-arrow:hover:before {color: black;}#sk-container-id-1 div.sk-estimator:hover label.sk-toggleable__label-arrow:before {color: black;}#sk-container-id-1 div.sk-toggleable__content {max-height: 0;max-width: 0;overflow: hidden;text-align: left;background-color: #f0f8ff;}#sk-container-id-1 div.sk-toggleable__content pre {margin: 0.2em;color: black;border-radius: 0.25em;background-color: #f0f8ff;}#sk-container-id-1 input.sk-toggleable__control:checked~div.sk-toggleable__content {max-height: 200px;max-width: 100%;overflow: auto;}#sk-container-id-1 input.sk-toggleable__control:checked~label.sk-toggleable__label-arrow:before {content: \"▾\";}#sk-container-id-1 div.sk-estimator input.sk-toggleable__control:checked~label.sk-toggleable__label {background-color: #d4ebff;}#sk-container-id-1 div.sk-label input.sk-toggleable__control:checked~label.sk-toggleable__label {background-color: #d4ebff;}#sk-container-id-1 input.sk-hidden--visually {border: 0;clip: rect(1px 1px 1px 1px);clip: rect(1px, 1px, 1px, 1px);height: 1px;margin: -1px;overflow: hidden;padding: 0;position: absolute;width: 1px;}#sk-container-id-1 div.sk-estimator {font-family: monospace;background-color: #f0f8ff;border: 1px dotted black;border-radius: 0.25em;box-sizing: border-box;margin-bottom: 0.5em;}#sk-container-id-1 div.sk-estimator:hover {background-color: #d4ebff;}#sk-container-id-1 div.sk-parallel-item::after {content: \"\";width: 100%;border-bottom: 1px solid gray;flex-grow: 1;}#sk-container-id-1 div.sk-label:hover label.sk-toggleable__label {background-color: #d4ebff;}#sk-container-id-1 div.sk-serial::before {content: \"\";position: absolute;border-left: 1px solid gray;box-sizing: border-box;top: 0;bottom: 0;left: 50%;z-index: 0;}#sk-container-id-1 div.sk-serial {display: flex;flex-direction: column;align-items: center;background-color: white;padding-right: 0.2em;padding-left: 0.2em;position: relative;}#sk-container-id-1 div.sk-item {position: relative;z-index: 1;}#sk-container-id-1 div.sk-parallel {display: flex;align-items: stretch;justify-content: center;background-color: white;position: relative;}#sk-container-id-1 div.sk-item::before, #sk-container-id-1 div.sk-parallel-item::before {content: \"\";position: absolute;border-left: 1px solid gray;box-sizing: border-box;top: 0;bottom: 0;left: 50%;z-index: -1;}#sk-container-id-1 div.sk-parallel-item {display: flex;flex-direction: column;z-index: 1;position: relative;background-color: white;}#sk-container-id-1 div.sk-parallel-item:first-child::after {align-self: flex-end;width: 50%;}#sk-container-id-1 div.sk-parallel-item:last-child::after {align-self: flex-start;width: 50%;}#sk-container-id-1 div.sk-parallel-item:only-child::after {width: 0;}#sk-container-id-1 div.sk-dashed-wrapped {border: 1px dashed gray;margin: 0 0.4em 0.5em 0.4em;box-sizing: border-box;padding-bottom: 0.4em;background-color: white;}#sk-container-id-1 div.sk-label label {font-family: monospace;font-weight: bold;display: inline-block;line-height: 1.2em;}#sk-container-id-1 div.sk-label-container {text-align: center;}#sk-container-id-1 div.sk-container {/* jupyter's `normalize.less` sets `[hidden] { display: none; }` but bootstrap.min.css set `[hidden] { display: none !important; }` so we also need the `!important` here to be able to override the default hidden behavior on the sphinx rendered scikit-learn.org. See: https://github.com/scikit-learn/scikit-learn/issues/21755 */display: inline-block !important;position: relative;}#sk-container-id-1 div.sk-text-repr-fallback {display: none;}</style><div id=\"sk-container-id-1\" class=\"sk-top-container\"><div class=\"sk-text-repr-fallback\"><pre>LinearRegression()</pre><b>In a Jupyter environment, please rerun this cell to show the HTML representation or trust the notebook. <br />On GitHub, the HTML representation is unable to render, please try loading this page with nbviewer.org.</b></div><div class=\"sk-container\" hidden><div class=\"sk-item\"><div class=\"sk-estimator sk-toggleable\"><input class=\"sk-toggleable__control sk-hidden--visually\" id=\"sk-estimator-id-1\" type=\"checkbox\" checked><label for=\"sk-estimator-id-1\" class=\"sk-toggleable__label sk-toggleable__label-arrow\">LinearRegression</label><div class=\"sk-toggleable__content\"><pre>LinearRegression()</pre></div></div></div></div></div>"
      ],
      "text/plain": [
       "LinearRegression()"
      ]
     },
     "execution_count": 24,
     "metadata": {},
     "output_type": "execute_result"
    }
   ],
   "source": [
    "from sklearn.linear_model import LinearRegression\n",
    "regressor = LinearRegression()\n",
    "regressor.fit(x_train, y_train)"
   ]
  },
  {
   "cell_type": "code",
   "execution_count": 26,
   "id": "62e1df85-483f-436a-9eb5-a6b24289dc57",
   "metadata": {},
   "outputs": [],
   "source": [
    "#Predectig the test set result"
   ]
  },
  {
   "cell_type": "code",
   "execution_count": 28,
   "id": "d5d60c12-7408-4e36-970f-2120d6aae795",
   "metadata": {
    "scrolled": true
   },
   "outputs": [
    {
     "name": "stdout",
     "output_type": "stream",
     "text": [
      "[[6.47e+05 3.54e+05]\n",
      " [6.49e+05 1.91e+06]\n",
      " [8.02e+06 1.90e+05]\n",
      " [8.00e+06 5.53e+06]\n",
      " [6.57e+05 1.10e+06]\n",
      " [7.75e+06 3.54e+03]\n",
      " [1.32e+06 3.36e+05]\n",
      " [6.54e+05 6.55e+05]\n",
      " [6.57e+05 3.53e+06]\n",
      " [7.65e+06 1.97e+04]\n",
      " [1.36e+06 3.43e+05]]\n"
     ]
    }
   ],
   "source": [
    "y_pred = regressor.predict(x_test)\n",
    "np.set_printoptions(precision=2)\n",
    "print(np.concatenate((y_pred.reshape(len(y_pred),1),y_test.reshape(len(y_test),1)),1))"
   ]
  }
 ],
 "metadata": {
  "kernelspec": {
   "display_name": "Python 3 (ipykernel)",
   "language": "python",
   "name": "python3"
  },
  "language_info": {
   "codemirror_mode": {
    "name": "ipython",
    "version": 3
   },
   "file_extension": ".py",
   "mimetype": "text/x-python",
   "name": "python",
   "nbconvert_exporter": "python",
   "pygments_lexer": "ipython3",
   "version": "3.11.7"
  }
 },
 "nbformat": 4,
 "nbformat_minor": 5
}
